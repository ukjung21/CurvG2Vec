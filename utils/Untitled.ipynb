{
 "cells": [
  {
   "cell_type": "code",
   "execution_count": 9,
   "id": "29c6d59e-0154-421b-8b4f-cdd7676b88ef",
   "metadata": {
    "tags": []
   },
   "outputs": [],
   "source": [
    "import torch\n",
    "import numpy as np\n",
    "from numpy import random"
   ]
  },
  {
   "cell_type": "code",
   "execution_count": 10,
   "id": "c8a18a92-951c-4c0c-92c7-1f34f85ec4e5",
   "metadata": {
    "tags": []
   },
   "outputs": [],
   "source": [
    "def givens_rotations(r, x):\n",
    "    givens = r.view((r.shape[0], -1, 2))\n",
    "    givens = givens / torch.norm(givens, p=2, dim=-1, keepdim=True).clamp_min(1e-15)\n",
    "    x = x.view((r.shape[0], -1, 2))\n",
    "    x_rot = givens[:, :, 0:1] * x + givens[:, :, 1:] * torch.cat((-x[:, :, 1:], x[:, :, 0:1]), dim=-1)\n",
    "    return x_rot.view((r.shape[0], -1))"
   ]
  },
  {
   "cell_type": "code",
   "execution_count": null,
   "id": "ad3d26f3-43db-4621-87b8-4d294f962bd9",
   "metadata": {},
   "outputs": [],
   "source": []
  }
 ],
 "metadata": {
  "kernelspec": {
   "display_name": "Python 3 (ipykernel)",
   "language": "python",
   "name": "python3"
  },
  "language_info": {
   "codemirror_mode": {
    "name": "ipython",
    "version": 3
   },
   "file_extension": ".py",
   "mimetype": "text/x-python",
   "name": "python",
   "nbconvert_exporter": "python",
   "pygments_lexer": "ipython3",
   "version": "3.8.13"
  }
 },
 "nbformat": 4,
 "nbformat_minor": 5
}
