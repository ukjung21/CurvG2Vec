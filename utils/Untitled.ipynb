{
 "cells": [
  {
   "cell_type": "code",
   "execution_count": 1,
   "id": "29c6d59e-0154-421b-8b4f-cdd7676b88ef",
   "metadata": {
    "tags": []
   },
   "outputs": [],
   "source": [
    "import torch\n",
    "import numpy as np\n",
    "from numpy import random\n",
    "from torch import nn"
   ]
  },
  {
   "cell_type": "code",
   "execution_count": 16,
   "id": "c8a18a92-951c-4c0c-92c7-1f34f85ec4e5",
   "metadata": {
    "tags": []
   },
   "outputs": [],
   "source": [
    "def givens_rotations(r, x):\n",
    "    givens = r.view((r.shape[0], -1, 2))\n",
    "    givens = givens / torch.norm(givens, p=2, dim=-1, keepdim=True).clamp_min(1e-15)\n",
    "    x = x.view((r.shape[0], -1, 2))\n",
    "    x_rot = givens[:, :, 0:1] * x + givens[:, :, 1:] * torch.cat((-x[:, :, 1:], x[:, :, 0:1]), dim=-1)\n",
    "    return x_rot.view((r.shape[0], -1))"
   ]
  },
  {
   "cell_type": "code",
   "execution_count": 17,
   "id": "ad3d26f3-43db-4621-87b8-4d294f962bd9",
   "metadata": {},
   "outputs": [
    {
     "data": {
      "text/plain": [
       "Embedding(5, 4)"
      ]
     },
     "execution_count": 17,
     "metadata": {},
     "output_type": "execute_result"
    }
   ],
   "source": [
    "rel_diag = nn.Embedding(5, 4)\n",
    "rel_diag.weight.data = 2 * torch.rand((5, 4), dtype=torch.double) - 1.0\n",
    "rel_diag"
   ]
  },
  {
   "cell_type": "code",
   "execution_count": 18,
   "id": "28d18a03",
   "metadata": {},
   "outputs": [
    {
     "data": {
      "text/plain": [
       "Embedding(3, 4)"
      ]
     },
     "execution_count": 18,
     "metadata": {},
     "output_type": "execute_result"
    }
   ],
   "source": [
    "lhs = nn.Embedding(3, 4)\n",
    "lhs.weight.data = torch.randn((3, 4), dtype=torch.double)\n",
    "lhs"
   ]
  },
  {
   "cell_type": "code",
   "execution_count": 25,
   "id": "cde15f00",
   "metadata": {},
   "outputs": [
    {
     "data": {
      "text/plain": [
       "tensor([[-0.5334,  0.9108,  0.0470,  0.6168]], dtype=torch.float64,\n",
       "       grad_fn=<EmbeddingBackward0>)"
      ]
     },
     "execution_count": 25,
     "metadata": {},
     "output_type": "execute_result"
    }
   ],
   "source": [
    "r= rel_diag(torch.tensor([1]))\n",
    "r"
   ]
  },
  {
   "cell_type": "code",
   "execution_count": 27,
   "id": "4cfac313",
   "metadata": {},
   "outputs": [
    {
     "data": {
      "text/plain": [
       "tensor([[[-0.5334,  0.9108],\n",
       "         [ 0.0470,  0.6168]]], dtype=torch.float64, grad_fn=<ViewBackward0>)"
      ]
     },
     "execution_count": 27,
     "metadata": {},
     "output_type": "execute_result"
    }
   ],
   "source": [
    "givens = r.view((r.shape[0], -1, 2))\n",
    "givens"
   ]
  },
  {
   "cell_type": "code",
   "execution_count": 32,
   "id": "b5c37a94",
   "metadata": {},
   "outputs": [
    {
     "data": {
      "text/plain": [
       "torch.Size([1, 2, 2])"
      ]
     },
     "execution_count": 32,
     "metadata": {},
     "output_type": "execute_result"
    }
   ],
   "source": [
    "givens = givens / torch.norm(givens, p=2, dim=-1, keepdim=True).clamp_min(1e-15)\n",
    "givens.shape"
   ]
  },
  {
   "cell_type": "code",
   "execution_count": 33,
   "id": "abd5bfec",
   "metadata": {},
   "outputs": [
    {
     "data": {
      "text/plain": [
       "torch.Size([1, 2, 2])"
      ]
     },
     "execution_count": 33,
     "metadata": {},
     "output_type": "execute_result"
    }
   ],
   "source": [
    "x = lhs(torch.tensor([1]))\n",
    "x = x.view((r.shape[0], -1, 2))\n",
    "x.shape"
   ]
  },
  {
   "cell_type": "code",
   "execution_count": 31,
   "id": "f72bd562",
   "metadata": {},
   "outputs": [
    {
     "data": {
      "text/plain": [
       "tensor([[[-0.5053],\n",
       "         [ 0.0760]]], dtype=torch.float64, grad_fn=<SliceBackward0>)"
      ]
     },
     "execution_count": 31,
     "metadata": {},
     "output_type": "execute_result"
    }
   ],
   "source": [
    "givens[:,:,0:1]"
   ]
  },
  {
   "cell_type": "code",
   "execution_count": null,
   "id": "3307ee79",
   "metadata": {},
   "outputs": [],
   "source": [
    "x_rot = givens[:, :, 0:1] * x + givens[:, :, 1:] * torch.cat((-x[:, :, 1:], x[:, :, 0:1]), dim=-1)"
   ]
  },
  {
   "cell_type": "code",
   "execution_count": null,
   "id": "5754d71f",
   "metadata": {},
   "outputs": [],
   "source": [
    "x_rot.view((r.shape[0], -1))"
   ]
  }
 ],
 "metadata": {
  "kernelspec": {
   "display_name": "Python 3 (ipykernel)",
   "language": "python",
   "name": "python3"
  },
  "language_info": {
   "codemirror_mode": {
    "name": "ipython",
    "version": 3
   },
   "file_extension": ".py",
   "mimetype": "text/x-python",
   "name": "python",
   "nbconvert_exporter": "python",
   "pygments_lexer": "ipython3",
   "version": "3.11.3"
  }
 },
 "nbformat": 4,
 "nbformat_minor": 5
}
