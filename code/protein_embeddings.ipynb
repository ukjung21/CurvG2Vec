{
 "cells": [
  {
   "cell_type": "code",
   "execution_count": 1,
   "metadata": {},
   "outputs": [],
   "source": [
    "import numpy as np\n",
    "go_embs = np.load('/home/ukjung18/GIE1/GIE/GIE-master/LOG_DIR/08_21/GO0818/MurP_08_58_37/entity_embedding.npy')"
   ]
  },
  {
   "cell_type": "code",
   "execution_count": 2,
   "metadata": {},
   "outputs": [
    {
     "data": {
      "text/html": [
       "<div>\n",
       "<style scoped>\n",
       "    .dataframe tbody tr th:only-of-type {\n",
       "        vertical-align: middle;\n",
       "    }\n",
       "\n",
       "    .dataframe tbody tr th {\n",
       "        vertical-align: top;\n",
       "    }\n",
       "\n",
       "    .dataframe thead th {\n",
       "        text-align: right;\n",
       "    }\n",
       "</style>\n",
       "<table border=\"1\" class=\"dataframe\">\n",
       "  <thead>\n",
       "    <tr style=\"text-align: right;\">\n",
       "      <th></th>\n",
       "      <th>head</th>\n",
       "      <th>rel</th>\n",
       "      <th>tail</th>\n",
       "    </tr>\n",
       "  </thead>\n",
       "  <tbody>\n",
       "    <tr>\n",
       "      <th>0</th>\n",
       "      <td>A0A024RBG1</td>\n",
       "      <td>goa_enables</td>\n",
       "      <td>GO:0000298</td>\n",
       "    </tr>\n",
       "    <tr>\n",
       "      <th>1</th>\n",
       "      <td>A0A024RBG1</td>\n",
       "      <td>goa_enables</td>\n",
       "      <td>GO:0003723</td>\n",
       "    </tr>\n",
       "    <tr>\n",
       "      <th>2</th>\n",
       "      <td>A0A024RBG1</td>\n",
       "      <td>goa_enables</td>\n",
       "      <td>GO:0008486</td>\n",
       "    </tr>\n",
       "    <tr>\n",
       "      <th>3</th>\n",
       "      <td>A0A024RBG1</td>\n",
       "      <td>goa_enables</td>\n",
       "      <td>GO:0034431</td>\n",
       "    </tr>\n",
       "    <tr>\n",
       "      <th>4</th>\n",
       "      <td>A0A024RBG1</td>\n",
       "      <td>goa_enables</td>\n",
       "      <td>GO:0034432</td>\n",
       "    </tr>\n",
       "    <tr>\n",
       "      <th>...</th>\n",
       "      <td>...</td>\n",
       "      <td>...</td>\n",
       "      <td>...</td>\n",
       "    </tr>\n",
       "    <tr>\n",
       "      <th>287848</th>\n",
       "      <td>U3KPV4</td>\n",
       "      <td>goa_involved_in</td>\n",
       "      <td>GO:0006688</td>\n",
       "    </tr>\n",
       "    <tr>\n",
       "      <th>287849</th>\n",
       "      <td>U3KPV4</td>\n",
       "      <td>goa_involved_in</td>\n",
       "      <td>GO:0030259</td>\n",
       "    </tr>\n",
       "    <tr>\n",
       "      <th>287850</th>\n",
       "      <td>U3KPV4</td>\n",
       "      <td>goa_is_active_in</td>\n",
       "      <td>GO:0005794</td>\n",
       "    </tr>\n",
       "    <tr>\n",
       "      <th>287851</th>\n",
       "      <td>U3KPV4</td>\n",
       "      <td>goa_is_active_in</td>\n",
       "      <td>GO:0031982</td>\n",
       "    </tr>\n",
       "    <tr>\n",
       "      <th>287852</th>\n",
       "      <td>U3KPV4</td>\n",
       "      <td>goa_located_in</td>\n",
       "      <td>GO:0032580</td>\n",
       "    </tr>\n",
       "  </tbody>\n",
       "</table>\n",
       "<p>287853 rows × 3 columns</p>\n",
       "</div>"
      ],
      "text/plain": [
       "              head               rel        tail\n",
       "0       A0A024RBG1       goa_enables  GO:0000298\n",
       "1       A0A024RBG1       goa_enables  GO:0003723\n",
       "2       A0A024RBG1       goa_enables  GO:0008486\n",
       "3       A0A024RBG1       goa_enables  GO:0034431\n",
       "4       A0A024RBG1       goa_enables  GO:0034432\n",
       "...            ...               ...         ...\n",
       "287848      U3KPV4   goa_involved_in  GO:0006688\n",
       "287849      U3KPV4   goa_involved_in  GO:0030259\n",
       "287850      U3KPV4  goa_is_active_in  GO:0005794\n",
       "287851      U3KPV4  goa_is_active_in  GO:0031982\n",
       "287852      U3KPV4    goa_located_in  GO:0032580\n",
       "\n",
       "[287853 rows x 3 columns]"
      ]
     },
     "execution_count": 2,
     "metadata": {},
     "output_type": "execute_result"
    }
   ],
   "source": [
    "import pandas as pd\n",
    "goa_df = pd.read_csv('/home/ukjung18/GIE1/GIE/GIE-master/src_data/GO0818/full_goa_edges.tsv', sep='\\t')\n",
    "goa_df"
   ]
  },
  {
   "cell_type": "code",
   "execution_count": 3,
   "metadata": {},
   "outputs": [
    {
     "data": {
      "text/html": [
       "<div>\n",
       "<style scoped>\n",
       "    .dataframe tbody tr th:only-of-type {\n",
       "        vertical-align: middle;\n",
       "    }\n",
       "\n",
       "    .dataframe tbody tr th {\n",
       "        vertical-align: top;\n",
       "    }\n",
       "\n",
       "    .dataframe thead th {\n",
       "        text-align: right;\n",
       "    }\n",
       "</style>\n",
       "<table border=\"1\" class=\"dataframe\">\n",
       "  <thead>\n",
       "    <tr style=\"text-align: right;\">\n",
       "      <th></th>\n",
       "      <th>term</th>\n",
       "      <th>level</th>\n",
       "      <th>class</th>\n",
       "    </tr>\n",
       "  </thead>\n",
       "  <tbody>\n",
       "    <tr>\n",
       "      <th>0</th>\n",
       "      <td>GO:0000001</td>\n",
       "      <td>5</td>\n",
       "      <td>biological_process</td>\n",
       "    </tr>\n",
       "    <tr>\n",
       "      <th>1</th>\n",
       "      <td>GO:0000002</td>\n",
       "      <td>6</td>\n",
       "      <td>biological_process</td>\n",
       "    </tr>\n",
       "    <tr>\n",
       "      <th>2</th>\n",
       "      <td>GO:0000003</td>\n",
       "      <td>1</td>\n",
       "      <td>biological_process</td>\n",
       "    </tr>\n",
       "    <tr>\n",
       "      <th>3</th>\n",
       "      <td>GO:0000006</td>\n",
       "      <td>5</td>\n",
       "      <td>molecular_function</td>\n",
       "    </tr>\n",
       "    <tr>\n",
       "      <th>4</th>\n",
       "      <td>GO:0000007</td>\n",
       "      <td>5</td>\n",
       "      <td>molecular_function</td>\n",
       "    </tr>\n",
       "    <tr>\n",
       "      <th>...</th>\n",
       "      <td>...</td>\n",
       "      <td>...</td>\n",
       "      <td>...</td>\n",
       "    </tr>\n",
       "    <tr>\n",
       "      <th>42945</th>\n",
       "      <td>GO:2001313</td>\n",
       "      <td>4</td>\n",
       "      <td>biological_process</td>\n",
       "    </tr>\n",
       "    <tr>\n",
       "      <th>42946</th>\n",
       "      <td>GO:2001314</td>\n",
       "      <td>5</td>\n",
       "      <td>biological_process</td>\n",
       "    </tr>\n",
       "    <tr>\n",
       "      <th>42947</th>\n",
       "      <td>GO:2001315</td>\n",
       "      <td>5</td>\n",
       "      <td>biological_process</td>\n",
       "    </tr>\n",
       "    <tr>\n",
       "      <th>42948</th>\n",
       "      <td>GO:2001316</td>\n",
       "      <td>4</td>\n",
       "      <td>biological_process</td>\n",
       "    </tr>\n",
       "    <tr>\n",
       "      <th>42949</th>\n",
       "      <td>GO:2001317</td>\n",
       "      <td>5</td>\n",
       "      <td>biological_process</td>\n",
       "    </tr>\n",
       "  </tbody>\n",
       "</table>\n",
       "<p>42950 rows × 3 columns</p>\n",
       "</div>"
      ],
      "text/plain": [
       "             term  level               class\n",
       "0      GO:0000001      5  biological_process\n",
       "1      GO:0000002      6  biological_process\n",
       "2      GO:0000003      1  biological_process\n",
       "3      GO:0000006      5  molecular_function\n",
       "4      GO:0000007      5  molecular_function\n",
       "...           ...    ...                 ...\n",
       "42945  GO:2001313      4  biological_process\n",
       "42946  GO:2001314      5  biological_process\n",
       "42947  GO:2001315      5  biological_process\n",
       "42948  GO:2001316      4  biological_process\n",
       "42949  GO:2001317      5  biological_process\n",
       "\n",
       "[42950 rows x 3 columns]"
      ]
     },
     "execution_count": 3,
     "metadata": {},
     "output_type": "execute_result"
    }
   ],
   "source": [
    "go_df = pd.read_csv('/home/ukjung18/GIE1/GIE/GIE-master/src_data/GO0818/entities.tsv', sep='\\t')\n",
    "go_df"
   ]
  },
  {
   "cell_type": "code",
   "execution_count": 4,
   "metadata": {},
   "outputs": [
    {
     "data": {
      "text/plain": [
       "42950"
      ]
     },
     "execution_count": 4,
     "metadata": {},
     "output_type": "execute_result"
    }
   ],
   "source": [
    "go_dict = {}\n",
    "for i, row in go_df.iterrows():\n",
    "    go_dict[row['term']] = i\n",
    "len(go_dict)"
   ]
  },
  {
   "cell_type": "code",
   "execution_count": 5,
   "metadata": {},
   "outputs": [],
   "source": [
    "goa_dict = {}\n",
    "for _, row in goa_df.iterrows():\n",
    "    if row['head'] not in goa_dict.keys():\n",
    "        goa_dict[row['head']] = [row['tail']]\n",
    "    else:\n",
    "        goa_dict[row['head']].append(row['tail'])"
   ]
  },
  {
   "cell_type": "code",
   "execution_count": 6,
   "metadata": {},
   "outputs": [
    {
     "data": {
      "text/plain": [
       "['GO:0000298',\n",
       " 'GO:0003723',\n",
       " 'GO:0008486',\n",
       " 'GO:0034431',\n",
       " 'GO:0034432',\n",
       " 'GO:0046872',\n",
       " 'GO:0071543',\n",
       " 'GO:1901907',\n",
       " 'GO:1901909',\n",
       " 'GO:1901911',\n",
       " 'GO:0005634',\n",
       " 'GO:0005737',\n",
       " 'GO:0005829']"
      ]
     },
     "execution_count": 6,
     "metadata": {},
     "output_type": "execute_result"
    }
   ],
   "source": [
    "prot = 'A0A024RBG1'\n",
    "go_list = goa_dict[prot]\n",
    "go_list"
   ]
  },
  {
   "cell_type": "code",
   "execution_count": 7,
   "metadata": {},
   "outputs": [],
   "source": [
    "prot_embs = {}\n",
    "for prot, go_list in goa_dict.items():\n",
    "    emb_list = [go_embs[go_dict[go]] for go in go_list]\n",
    "    emb_sum = np.sum(emb_list, axis=0)\n",
    "    prot_embs[prot] = emb_sum"
   ]
  },
  {
   "cell_type": "code",
   "execution_count": 8,
   "metadata": {},
   "outputs": [
    {
     "data": {
      "text/plain": [
       "18133"
      ]
     },
     "execution_count": 8,
     "metadata": {},
     "output_type": "execute_result"
    }
   ],
   "source": [
    "len(prot_embs)"
   ]
  },
  {
   "cell_type": "code",
   "execution_count": 9,
   "metadata": {},
   "outputs": [
    {
     "data": {
      "text/plain": [
       "(300,)"
      ]
     },
     "execution_count": 9,
     "metadata": {},
     "output_type": "execute_result"
    }
   ],
   "source": [
    "prot_embs['A0A024RBG1'].shape"
   ]
  },
  {
   "cell_type": "code",
   "execution_count": 10,
   "metadata": {},
   "outputs": [],
   "source": [
    "import pickle\n",
    "with open('/home/ukjung18/HiG2Vec/evalGene/prot_dict.pickle','rb') as fw:\n",
    "    prot_to_id = pickle.load(fw)"
   ]
  },
  {
   "cell_type": "code",
   "execution_count": 11,
   "metadata": {},
   "outputs": [
    {
     "data": {
      "text/plain": [
       "(18133, 300)"
      ]
     },
     "execution_count": 11,
     "metadata": {},
     "output_type": "execute_result"
    }
   ],
   "source": [
    "import numpy as np\n",
    "entity_embs = np.empty([300])\n",
    "for term, i in prot_to_id.items():\n",
    "    entity_embs = np.vstack((entity_embs, prot_embs[term]))\n",
    "entity_embs = np.delete(entity_embs, (0), axis=0)\n",
    "entity_embs.shape"
   ]
  },
  {
   "cell_type": "code",
   "execution_count": 13,
   "metadata": {},
   "outputs": [],
   "source": [
    "np.save('/home/ukjung18/anc2vec/examples/murp_embeddings.npy', entity_embs)"
   ]
  },
  {
   "cell_type": "code",
   "execution_count": 10,
   "metadata": {},
   "outputs": [],
   "source": [
    "import numpy as np\n",
    "rot_path = '/home/ukjung18/GIE1/GIE/GIE-master/LOG_DIR/08_07/GOA0723/GIE_rot_13_34_31/test_attention_weights.npy'\n",
    "ref_path = '/home/ukjung18/GIE1/GIE/GIE-master/LOG_DIR/08_07/GOA0723/GIE_ref_13_34_35/test_attention_weights.npy'\n",
    "trans_path = '/home/ukjung18/GIE1/GIE/GIE-master/LOG_DIR/08_07/GOA0723/GIE_trans_13_34_38/test_attention_weights.npy'\n",
    "val_rot_path = '/home/ukjung18/GIE1/GIE/GIE-master/LOG_DIR/08_07/GOA0723/GIE_rot_13_34_31/valid_attention_weights.npy'\n",
    "val_ref_path = '/home/ukjung18/GIE1/GIE/GIE-master/LOG_DIR/08_07/GOA0723/GIE_ref_13_34_35/valid_attention_weights.npy'\n",
    "val_trans_path = '/home/ukjung18/GIE1/GIE/GIE-master/LOG_DIR/08_07/GOA0723/GIE_trans_13_34_38/valid_attention_weights.npy'\n",
    "rot_att = np.load(rot_path)\n",
    "ref_att = np.load(ref_path)\n",
    "trans_att = np.load(trans_path)\n",
    "val_rot_att = np.load(val_rot_path)\n",
    "val_ref_att = np.load(val_ref_path)\n",
    "val_trans_att = np.load(val_trans_path)"
   ]
  },
  {
   "cell_type": "code",
   "execution_count": 11,
   "metadata": {},
   "outputs": [
    {
     "data": {
      "text/plain": [
       "array([[0.3963412 ],\n",
       "       [0.32492194],\n",
       "       [0.27873686]])"
      ]
     },
     "execution_count": 11,
     "metadata": {},
     "output_type": "execute_result"
    }
   ],
   "source": [
    "rot_att[-1]"
   ]
  },
  {
   "cell_type": "code",
   "execution_count": 13,
   "metadata": {},
   "outputs": [
    {
     "data": {
      "text/plain": [
       "(68, 3, 1)"
      ]
     },
     "execution_count": 13,
     "metadata": {},
     "output_type": "execute_result"
    }
   ],
   "source": [
    "val_rot_att.shape"
   ]
  },
  {
   "cell_type": "code",
   "execution_count": 4,
   "metadata": {},
   "outputs": [
    {
     "data": {
      "text/plain": [
       "array([[0.29928053],\n",
       "       [0.23803252],\n",
       "       [0.46268695]])"
      ]
     },
     "execution_count": 4,
     "metadata": {},
     "output_type": "execute_result"
    }
   ],
   "source": [
    "ref_att[-1]"
   ]
  },
  {
   "cell_type": "code",
   "execution_count": 6,
   "metadata": {},
   "outputs": [
    {
     "data": {
      "text/plain": [
       "array([[0.31217413],\n",
       "       [0.31217413],\n",
       "       [0.37565175]])"
      ]
     },
     "execution_count": 6,
     "metadata": {},
     "output_type": "execute_result"
    }
   ],
   "source": [
    "trans_att[0]"
   ]
  },
  {
   "cell_type": "code",
   "execution_count": null,
   "metadata": {},
   "outputs": [],
   "source": []
  }
 ],
 "metadata": {
  "kernelspec": {
   "display_name": "anc2vec",
   "language": "python",
   "name": "python3"
  },
  "language_info": {
   "codemirror_mode": {
    "name": "ipython",
    "version": 3
   },
   "file_extension": ".py",
   "mimetype": "text/x-python",
   "name": "python",
   "nbconvert_exporter": "python",
   "pygments_lexer": "ipython3",
   "version": "3.6.15"
  },
  "orig_nbformat": 4
 },
 "nbformat": 4,
 "nbformat_minor": 2
}
